{
 "cells": [
  {
   "cell_type": "markdown",
   "metadata": {},
   "source": [
    "Using PRAW (Python Reddit API Wrapper) to extract data. Installed praw with pip install praw. Then wrote following function to extract active user count. It can extract count from any subreddit. Just need to substitute in sub_name."
   ]
  },
  {
   "cell_type": "code",
   "execution_count": 14,
   "metadata": {
    "collapsed": true
   },
   "outputs": [],
   "source": [
    "import praw\n",
    "def getActiveUserCount(sub_name):\n",
    "    reddit = praw.Reddit(client_id='CLIENT_ID',\n",
    "                     client_secret='CLIENT_SECRET',\n",
    "                     password='REDDIT_PASSWORD',\n",
    "                     user_agent='testscript by /u/cborish',\n",
    "                     username='REDDIT_USERNAME')\n",
    "    subreddit = reddit.subreddit(sub_name)\n",
    "    number = subreddit.active_user_count\n",
    "    return number"
   ]
  },
  {
   "cell_type": "markdown",
   "metadata": {},
   "source": [
    "I'm specifically interested in the subreddit clashofclansrecruit, so I run the function for that subreddit."
   ]
  },
  {
   "cell_type": "code",
   "execution_count": 15,
   "metadata": {},
   "outputs": [
    {
     "name": "stdout",
     "output_type": "stream",
     "text": [
      "84\n"
     ]
    }
   ],
   "source": [
    "numberOfUsers = getActiveUserCount(\"clashofclansrecruit\")\n",
    "print(numberOfUsers)"
   ]
  },
  {
   "cell_type": "markdown",
   "metadata": {},
   "source": [
    "Get the current date and time"
   ]
  },
  {
   "cell_type": "code",
   "execution_count": 11,
   "metadata": {},
   "outputs": [
    {
     "name": "stdout",
     "output_type": "stream",
     "text": [
      "Saturday 22\n"
     ]
    }
   ],
   "source": [
    "import datetime\n",
    "print(datetime.datetime.today().strftime(\"%A %H\"))"
   ]
  },
  {
   "cell_type": "code",
   "execution_count": 21,
   "metadata": {},
   "outputs": [
    {
     "name": "stderr",
     "output_type": "stream",
     "text": [
      "/anaconda/lib/python3.6/site-packages/ipykernel_launcher.py:5: DeprecationWarning: context interface will be changed.  Use explicit conn.commit() or conn.rollback().\n",
      "  \"\"\"\n"
     ]
    }
   ],
   "source": [
    "import MySQLdb as mdb\n",
    "\n",
    "con = mdb.connect('localhost', 'USER', 'PASSWORD', 'DATABASE');\n",
    "\n",
    "with con:\n",
    "    cur = con.cursor()\n",
    "    cur.execute(\"DROP TABLE IF EXISTS activeUsers\")\n",
    "    cur.execute(\"CREATE TABLE activeUsers(Weekday VARCHAR(10), \\\n",
    "    Hour INT, \\\n",
    "    Users INT)\")\n",
    "    cur.execute(\"\"\"INSERT INTO activeUsers(Weekday, Hour, Users) VALUES(%s, %s, %s)\"\"\", (datetime.datetime.today().strftime(\"%A\"), datetime.datetime.today().strftime(\"%H\"), numberOfUsers))\n",
    "    "
   ]
  },
  {
   "cell_type": "code",
   "execution_count": 22,
   "metadata": {},
   "outputs": [
    {
     "name": "stdout",
     "output_type": "stream",
     "text": [
      "Saturday 22 84\n"
     ]
    },
    {
     "name": "stderr",
     "output_type": "stream",
     "text": [
      "/anaconda/lib/python3.6/site-packages/ipykernel_launcher.py:5: DeprecationWarning: context interface will be changed.  Use explicit conn.commit() or conn.rollback().\n",
      "  \"\"\"\n"
     ]
    }
   ],
   "source": [
    "import MySQLdb as mdb\n",
    "\n",
    "con = mdb.connect('localhost', 'root', '', 'DATABASE');\n",
    "\n",
    "with con: \n",
    "\n",
    "    cur = con.cursor(mdb.cursors.DictCursor)\n",
    "    cur.execute(\"SELECT * FROM activeUsers\")\n",
    "\n",
    "    rows = cur.fetchall()\n",
    "\n",
    "    for row in rows:\n",
    "        print(row[\"Weekday\"], row[\"Hour\"], row[\"Users\"])"
   ]
  },
  {
   "cell_type": "code",
   "execution_count": null,
   "metadata": {
    "collapsed": true
   },
   "outputs": [],
   "source": []
  }
 ],
 "metadata": {
  "kernelspec": {
   "display_name": "Python 3",
   "language": "python",
   "name": "python3"
  },
  "language_info": {
   "codemirror_mode": {
    "name": "ipython",
    "version": 3
   },
   "file_extension": ".py",
   "mimetype": "text/x-python",
   "name": "python",
   "nbconvert_exporter": "python",
   "pygments_lexer": "ipython3",
   "version": "3.6.1"
  }
 },
 "nbformat": 4,
 "nbformat_minor": 2
}
